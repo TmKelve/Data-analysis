{
 "cells": [
  {
   "cell_type": "markdown",
   "id": "a7191fdf-71b8-419a-ba16-faa024ec35d5",
   "metadata": {},
   "source": [
    "# ¿Cómo afecta la localización al éxito de tu negocio?"
   ]
  },
  {
   "cell_type": "markdown",
   "id": "0f973b1a-c74d-4f32-ba20-8866195ce8ac",
   "metadata": {},
   "source": [
    "## Problema comercial"
   ]
  },
  {
   "cell_type": "markdown",
   "id": "c2fa102f-a209-43ae-9ece-38984ce44911",
   "metadata": {},
   "source": [
    "La localización de una empresa es un elemento clave para su correcto desarrollo, y puede constituir uno de los factores competitivos más importantes de la misma. En este sentido, una empresa podría decidir colocarse cerca de sus competidores si no puede competir en precios, ya que vende un producto homogéneo, o podría colocarse a cierta distancia si esto le otorga cierto poder de mercado.\n",
    "\n",
    "Por este motivo, los dueños de los restaurantes estarían interesados en acceder a un servicio que pudiese aportar información adicional sobre la localización de los otros restaurantes en la ciudad, de forma que puedan tomar una decisión informada sobre este factor clave.\n",
    "\n",
    "El objetivo de este análisis es, por tanto, predecir el éxito de un restaurante en función de su localización."
   ]
  },
  {
   "cell_type": "markdown",
   "id": "cfbf2b99-147c-4059-9ecd-8510fe0e438f",
   "metadata": {},
   "source": [
    "## Datos"
   ]
  },
  {
   "cell_type": "markdown",
   "id": "2c69e8d6-ab4c-4120-96df-9e0fed9889bc",
   "metadata": {},
   "source": [
    "Para poder abordar este problema, no solamente es necesario obtener datos sobre la localización de los diferentes restaurantes de una ciudad, sino que también es necesario adquirir datos que permitan medir el éxito de los restaurantes. Precisamente por este motivo, además de emplear los datos de Foursquare (para la ciudad de California), utilizaré también datos de reseñas de Google que los usuarios dejan en estos negocios, mediante el uso de la API de Outscraper. Estos datos de reseña tienen un valor de 1 a 5 estrellas, donde 1 sería la puntuación más baja que se puede otorgar a un negocio.\n",
    "\n",
    "Una vez obtenidos los datos de localización y de valoración, se combinan en un único set de datos en el que los datos de localización son los factores explicativos y la valoración media es la variable objetivo."
   ]
  }
 ],
 "metadata": {
  "kernelspec": {
   "display_name": "Python 3",
   "language": "python",
   "name": "python3"
  },
  "language_info": {
   "codemirror_mode": {
    "name": "ipython",
    "version": 3
   },
   "file_extension": ".py",
   "mimetype": "text/x-python",
   "name": "python",
   "nbconvert_exporter": "python",
   "pygments_lexer": "ipython3",
   "version": "3.8.8"
  }
 },
 "nbformat": 4,
 "nbformat_minor": 5
}
