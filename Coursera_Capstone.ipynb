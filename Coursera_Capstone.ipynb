{
 "cells": [
  {
   "cell_type": "markdown",
   "id": "b7f67452-b934-490c-b1c5-216005247e9e",
   "metadata": {},
   "source": [
    "### Curso Capstone de Coursera"
   ]
  },
  {
   "cell_type": "markdown",
   "id": "af3381d2-0767-4d6c-824b-20901471c222",
   "metadata": {},
   "source": [
    "En este notebook se ponen en práctica las habilidades adquiridas en los cursos previos mediante la elaboración de un proyecto final que trabaja con datos geoespaciales."
   ]
  },
  {
   "cell_type": "code",
   "execution_count": 2,
   "id": "cd94fe8e-82be-4802-986d-5d1e31d8b005",
   "metadata": {},
   "outputs": [],
   "source": [
    "import pandas as pd\n",
    "import numpy as np"
   ]
  },
  {
   "cell_type": "code",
   "execution_count": 3,
   "id": "c84139a2-05fe-4606-9fe0-d1a50b47dabd",
   "metadata": {},
   "outputs": [
    {
     "name": "stdout",
     "output_type": "stream",
     "text": [
      "¡Hola, Proyecto Final del Curso!\n"
     ]
    }
   ],
   "source": [
    "print(\"¡Hola, Proyecto Final del Curso!\")"
   ]
  }
 ],
 "metadata": {
  "kernelspec": {
   "display_name": "Python 3",
   "language": "python",
   "name": "python3"
  },
  "language_info": {
   "codemirror_mode": {
    "name": "ipython",
    "version": 3
   },
   "file_extension": ".py",
   "mimetype": "text/x-python",
   "name": "python",
   "nbconvert_exporter": "python",
   "pygments_lexer": "ipython3",
   "version": "3.8.8"
  }
 },
 "nbformat": 4,
 "nbformat_minor": 5
}
