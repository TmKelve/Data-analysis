{
  "cells": [
    {
      "cell_type": "markdown",
      "source": [
        "Importando as bibliotecas"
      ],
      "metadata": {
        "id": "W7r63qbi1BiU"
      },
      "id": "W7r63qbi1BiU"
    },
    {
      "cell_type": "code",
      "execution_count": null,
      "id": "b1ee0cf5-c0dc-4743-9aca-078804730474",
      "metadata": {
        "id": "b1ee0cf5-c0dc-4743-9aca-078804730474"
      },
      "outputs": [],
      "source": [
        "import pandas as pd\n",
        "import requests\n",
        "import json"
      ]
    },
    {
      "cell_type": "markdown",
      "source": [
        "Obtemos a tabela da Wikipedia diretamente em um DataFrame"
      ],
      "metadata": {
        "id": "Zh8bZjuH1FwB"
      },
      "id": "Zh8bZjuH1FwB"
    },
    {
      "cell_type": "code",
      "execution_count": null,
      "id": "7fade099-1e2d-421c-993f-0a2fc2dd242c",
      "metadata": {
        "id": "7fade099-1e2d-421c-993f-0a2fc2dd242c"
      },
      "outputs": [],
      "source": [
        "data = pd.read_html(\"https://en.wikipedia.org/wiki/List_of_postal_codes_of_Canada:_M\")[0]"
      ]
    },
    {
      "cell_type": "markdown",
      "source": [
        "\n",
        "Separamos os códigos dos endereços e eliminamos aqueles que não são atribuídos"
      ],
      "metadata": {
        "id": "X8xI1udz1SLB"
      },
      "id": "X8xI1udz1SLB"
    },
    {
      "cell_type": "code",
      "execution_count": null,
      "id": "77e5e38f-5b14-4f30-bb8d-790b58616e31",
      "metadata": {
        "id": "77e5e38f-5b14-4f30-bb8d-790b58616e31"
      },
      "outputs": [],
      "source": [
        "postal_code = []\n",
        "status = []\n",
        "for row in data.iterrows():\n",
        "    for i in row[1]:\n",
        "        postal_code.append(i[:3])\n",
        "        status.append(i[3:])"
      ]
    },
    {
      "cell_type": "code",
      "execution_count": null,
      "id": "f59f19cf-43ed-45a0-954c-7c6e5895d8f2",
      "metadata": {
        "id": "f59f19cf-43ed-45a0-954c-7c6e5895d8f2"
      },
      "outputs": [],
      "source": [
        "inte = pd.DataFrame({\"Postal Code\":postal_code,\"Status\":status})\n",
        "inte = inte[inte.Status != \"Not assigned\"]"
      ]
    },
    {
      "cell_type": "markdown",
      "source": [
        "Separamos o Bairro dos endereços. Em seguida, limpamos o DataFrame e corrigimos alguns erros de digitação"
      ],
      "metadata": {
        "id": "4Btx2HK71XEN"
      },
      "id": "4Btx2HK71XEN"
    },
    {
      "cell_type": "code",
      "execution_count": null,
      "id": "ebae736d-b924-4fdf-917b-4cd9f3756f23",
      "metadata": {
        "id": "ebae736d-b924-4fdf-917b-4cd9f3756f23"
      },
      "outputs": [],
      "source": [
        "inte[\"Borough\"] = [i[0] for i in inte.Status.str.split(\"(\")]\n",
        "inte[\"Neighborhood\"] = [\",\".join(i[1][:-1].split(\"/\")) for i in inte.Status.str.split(\"(\")]\n",
        "inte.reset_index(inplace = True)\n",
        "inte.drop([\"index\",\"Status\"],axis = 1, inplace = True)"
      ]
    },
    {
      "cell_type": "code",
      "execution_count": null,
      "id": "fdb8283d-5631-4a7a-a56a-fa431e55994f",
      "metadata": {
        "id": "fdb8283d-5631-4a7a-a56a-fa431e55994f"
      },
      "outputs": [],
      "source": [
        "inte[\"Neighborhood\"].replace([\"Don Mills)Nort\",\"Don Mills)Sout\",\"Downsview)East\",\"Downsview)Wes\",\"Downsview)Centra\",\"Willowdale)Sout\",\"Downsview)Northwes\",\"Willowdale)Wes\"],\n",
        "                             [\"Don Mills North\",\"Don Mills South\",\"Downsview East\",\"Downsview West\",\"Downsview Central\",\"Willowdale South\",\"Downsview Northwest\",\"Willowdale West\"],\n",
        "                             inplace = True)"
      ]
    },
    {
      "cell_type": "code",
      "execution_count": null,
      "id": "6de10b4c-1b26-43df-9923-23046aff8a1a",
      "metadata": {
        "id": "6de10b4c-1b26-43df-9923-23046aff8a1a"
      },
      "outputs": [],
      "source": [
        "inte[\"Borough\"].replace([\"East YorkEast Toronto\",\"Mississauga, Canada Post Gateway Processing Centre\",\"Downtown TorontoStn A PO Boxes25 The Esplanade\",\"EtobicokeNorthwest\",\"East TorontoBusiness reply mail Processing Centre969 Eastern\"],\n",
        "                        [\"East York, East Toronto\",\"Mississauga, Canada Post Gateway Processing Centre\",\"Downtown Toronto, Stn A PO Boxes, 25 The Esplanade\",\"Etobicoke Northwest\",\"East Toronto, Business reply mail Processing Centre, 969 Eastern\"],\n",
        "                        inplace = True)"
      ]
    },
    {
      "cell_type": "markdown",
      "source": [
        "Resultado"
      ],
      "metadata": {
        "id": "m6wZISDd1dPz"
      },
      "id": "m6wZISDd1dPz"
    },
    {
      "cell_type": "code",
      "execution_count": null,
      "id": "5ac2dea3-392a-4db0-a831-49d0d5b785e3",
      "metadata": {
        "id": "5ac2dea3-392a-4db0-a831-49d0d5b785e3",
        "outputId": "8ea3cb06-175d-44a0-b40c-1d688e774a4f"
      },
      "outputs": [
        {
          "data": {
            "text/html": [
              "<div>\n",
              "<style scoped>\n",
              "    .dataframe tbody tr th:only-of-type {\n",
              "        vertical-align: middle;\n",
              "    }\n",
              "\n",
              "    .dataframe tbody tr th {\n",
              "        vertical-align: top;\n",
              "    }\n",
              "\n",
              "    .dataframe thead th {\n",
              "        text-align: right;\n",
              "    }\n",
              "</style>\n",
              "<table border=\"1\" class=\"dataframe\">\n",
              "  <thead>\n",
              "    <tr style=\"text-align: right;\">\n",
              "      <th></th>\n",
              "      <th>Postal Code</th>\n",
              "      <th>Borough</th>\n",
              "      <th>Neighborhood</th>\n",
              "    </tr>\n",
              "  </thead>\n",
              "  <tbody>\n",
              "    <tr>\n",
              "      <th>0</th>\n",
              "      <td>M3A</td>\n",
              "      <td>North York</td>\n",
              "      <td>Parkwoods</td>\n",
              "    </tr>\n",
              "    <tr>\n",
              "      <th>1</th>\n",
              "      <td>M4A</td>\n",
              "      <td>North York</td>\n",
              "      <td>Victoria Village</td>\n",
              "    </tr>\n",
              "    <tr>\n",
              "      <th>2</th>\n",
              "      <td>M5A</td>\n",
              "      <td>Downtown Toronto</td>\n",
              "      <td>Regent Park , Harbourfront</td>\n",
              "    </tr>\n",
              "    <tr>\n",
              "      <th>3</th>\n",
              "      <td>M6A</td>\n",
              "      <td>North York</td>\n",
              "      <td>Lawrence Manor , Lawrence Heights</td>\n",
              "    </tr>\n",
              "    <tr>\n",
              "      <th>4</th>\n",
              "      <td>M7A</td>\n",
              "      <td>Queen's Park</td>\n",
              "      <td>Ontario Provincial Government</td>\n",
              "    </tr>\n",
              "  </tbody>\n",
              "</table>\n",
              "</div>"
            ],
            "text/plain": [
              "  Postal Code           Borough                       Neighborhood\n",
              "0         M3A        North York                          Parkwoods\n",
              "1         M4A        North York                   Victoria Village\n",
              "2         M5A  Downtown Toronto         Regent Park , Harbourfront\n",
              "3         M6A        North York  Lawrence Manor , Lawrence Heights\n",
              "4         M7A      Queen's Park      Ontario Provincial Government"
            ]
          },
          "execution_count": 13,
          "metadata": {},
          "output_type": "execute_result"
        }
      ],
      "source": [
        "inte.head()"
      ]
    },
    {
      "cell_type": "code",
      "execution_count": null,
      "id": "c5aaae5c-55f0-4fff-b32b-96ec65fa5f34",
      "metadata": {
        "id": "c5aaae5c-55f0-4fff-b32b-96ec65fa5f34",
        "outputId": "29345663-de55-4bbf-ea50-49c1fcb0361a"
      },
      "outputs": [
        {
          "data": {
            "text/plain": [
              "(103, 3)"
            ]
          },
          "execution_count": 14,
          "metadata": {},
          "output_type": "execute_result"
        }
      ],
      "source": [
        "inte.shape"
      ]
    },
    {
      "cell_type": "markdown",
      "source": [
        "Carregamos o ficheiro .CSV"
      ],
      "metadata": {
        "id": "LpQphFUq1gaI"
      },
      "id": "LpQphFUq1gaI"
    },
    {
      "cell_type": "code",
      "execution_count": null,
      "id": "2fb29381-db9f-4374-99d2-d018f099a460",
      "metadata": {
        "id": "2fb29381-db9f-4374-99d2-d018f099a460",
        "outputId": "f5031b90-1341-453c-ce54-cec5eb231939"
      },
      "outputs": [
        {
          "data": {
            "text/html": [
              "<div>\n",
              "<style scoped>\n",
              "    .dataframe tbody tr th:only-of-type {\n",
              "        vertical-align: middle;\n",
              "    }\n",
              "\n",
              "    .dataframe tbody tr th {\n",
              "        vertical-align: top;\n",
              "    }\n",
              "\n",
              "    .dataframe thead th {\n",
              "        text-align: right;\n",
              "    }\n",
              "</style>\n",
              "<table border=\"1\" class=\"dataframe\">\n",
              "  <thead>\n",
              "    <tr style=\"text-align: right;\">\n",
              "      <th></th>\n",
              "      <th>Postal Code</th>\n",
              "      <th>Latitude</th>\n",
              "      <th>Longitude</th>\n",
              "    </tr>\n",
              "  </thead>\n",
              "  <tbody>\n",
              "    <tr>\n",
              "      <th>0</th>\n",
              "      <td>M1B</td>\n",
              "      <td>43.806686</td>\n",
              "      <td>-79.194353</td>\n",
              "    </tr>\n",
              "    <tr>\n",
              "      <th>1</th>\n",
              "      <td>M1C</td>\n",
              "      <td>43.784535</td>\n",
              "      <td>-79.160497</td>\n",
              "    </tr>\n",
              "    <tr>\n",
              "      <th>2</th>\n",
              "      <td>M1E</td>\n",
              "      <td>43.763573</td>\n",
              "      <td>-79.188711</td>\n",
              "    </tr>\n",
              "    <tr>\n",
              "      <th>3</th>\n",
              "      <td>M1G</td>\n",
              "      <td>43.770992</td>\n",
              "      <td>-79.216917</td>\n",
              "    </tr>\n",
              "    <tr>\n",
              "      <th>4</th>\n",
              "      <td>M1H</td>\n",
              "      <td>43.773136</td>\n",
              "      <td>-79.239476</td>\n",
              "    </tr>\n",
              "  </tbody>\n",
              "</table>\n",
              "</div>"
            ],
            "text/plain": [
              "  Postal Code   Latitude  Longitude\n",
              "0         M1B  43.806686 -79.194353\n",
              "1         M1C  43.784535 -79.160497\n",
              "2         M1E  43.763573 -79.188711\n",
              "3         M1G  43.770992 -79.216917\n",
              "4         M1H  43.773136 -79.239476"
            ]
          },
          "execution_count": 16,
          "metadata": {},
          "output_type": "execute_result"
        }
      ],
      "source": [
        "geo_data = pd.read_csv(\"Geospatial_Coordinates.csv\",header = 0)\n",
        "geo_data.head()"
      ]
    },
    {
      "cell_type": "markdown",
      "source": [
        "Juntamos os dois DataFrames usando o código postal como chave"
      ],
      "metadata": {
        "id": "A5Blko9R1ngK"
      },
      "id": "A5Blko9R1ngK"
    },
    {
      "cell_type": "code",
      "execution_count": null,
      "id": "9ad453d7-14ef-48a2-bce1-95b95b6d6229",
      "metadata": {
        "id": "9ad453d7-14ef-48a2-bce1-95b95b6d6229",
        "outputId": "20c3c3a4-ffa1-470b-8cf0-a6fb28d70b83"
      },
      "outputs": [
        {
          "data": {
            "text/html": [
              "<div>\n",
              "<style scoped>\n",
              "    .dataframe tbody tr th:only-of-type {\n",
              "        vertical-align: middle;\n",
              "    }\n",
              "\n",
              "    .dataframe tbody tr th {\n",
              "        vertical-align: top;\n",
              "    }\n",
              "\n",
              "    .dataframe thead th {\n",
              "        text-align: right;\n",
              "    }\n",
              "</style>\n",
              "<table border=\"1\" class=\"dataframe\">\n",
              "  <thead>\n",
              "    <tr style=\"text-align: right;\">\n",
              "      <th></th>\n",
              "      <th>Postal Code</th>\n",
              "      <th>Borough</th>\n",
              "      <th>Neighborhood</th>\n",
              "      <th>Latitude</th>\n",
              "      <th>Longitude</th>\n",
              "    </tr>\n",
              "  </thead>\n",
              "  <tbody>\n",
              "    <tr>\n",
              "      <th>0</th>\n",
              "      <td>M3A</td>\n",
              "      <td>North York</td>\n",
              "      <td>Parkwoods</td>\n",
              "      <td>43.753259</td>\n",
              "      <td>-79.329656</td>\n",
              "    </tr>\n",
              "    <tr>\n",
              "      <th>1</th>\n",
              "      <td>M4A</td>\n",
              "      <td>North York</td>\n",
              "      <td>Victoria Village</td>\n",
              "      <td>43.725882</td>\n",
              "      <td>-79.315572</td>\n",
              "    </tr>\n",
              "    <tr>\n",
              "      <th>2</th>\n",
              "      <td>M5A</td>\n",
              "      <td>Downtown Toronto</td>\n",
              "      <td>Regent Park , Harbourfront</td>\n",
              "      <td>43.654260</td>\n",
              "      <td>-79.360636</td>\n",
              "    </tr>\n",
              "    <tr>\n",
              "      <th>3</th>\n",
              "      <td>M6A</td>\n",
              "      <td>North York</td>\n",
              "      <td>Lawrence Manor , Lawrence Heights</td>\n",
              "      <td>43.718518</td>\n",
              "      <td>-79.464763</td>\n",
              "    </tr>\n",
              "    <tr>\n",
              "      <th>4</th>\n",
              "      <td>M7A</td>\n",
              "      <td>Queen's Park</td>\n",
              "      <td>Ontario Provincial Government</td>\n",
              "      <td>43.662301</td>\n",
              "      <td>-79.389494</td>\n",
              "    </tr>\n",
              "  </tbody>\n",
              "</table>\n",
              "</div>"
            ],
            "text/plain": [
              "  Postal Code           Borough                       Neighborhood   Latitude  \\\n",
              "0         M3A        North York                          Parkwoods  43.753259   \n",
              "1         M4A        North York                   Victoria Village  43.725882   \n",
              "2         M5A  Downtown Toronto         Regent Park , Harbourfront  43.654260   \n",
              "3         M6A        North York  Lawrence Manor , Lawrence Heights  43.718518   \n",
              "4         M7A      Queen's Park      Ontario Provincial Government  43.662301   \n",
              "\n",
              "   Longitude  \n",
              "0 -79.329656  \n",
              "1 -79.315572  \n",
              "2 -79.360636  \n",
              "3 -79.464763  \n",
              "4 -79.389494  "
            ]
          },
          "execution_count": 18,
          "metadata": {},
          "output_type": "execute_result"
        }
      ],
      "source": [
        "df = inte.merge(geo_data, on = \"Postal Code\")\n",
        "df.head()"
      ]
    },
    {
      "cell_type": "markdown",
      "source": [
        "Resultado"
      ],
      "metadata": {
        "id": "tUx-6TWH1rYg"
      },
      "id": "tUx-6TWH1rYg"
    },
    {
      "cell_type": "code",
      "execution_count": null,
      "id": "07a3c746-ed64-4ee8-94f2-baf5670faa0c",
      "metadata": {
        "id": "07a3c746-ed64-4ee8-94f2-baf5670faa0c",
        "outputId": "d62f69c5-6ce3-4bab-d2f1-b2f18557b758"
      },
      "outputs": [
        {
          "data": {
            "text/plain": [
              "(103, 5)"
            ]
          },
          "execution_count": 20,
          "metadata": {},
          "output_type": "execute_result"
        }
      ],
      "source": [
        "df.shape"
      ]
    }
  ],
  "metadata": {
    "kernelspec": {
      "display_name": "Python 3",
      "language": "python",
      "name": "python3"
    },
    "language_info": {
      "codemirror_mode": {
        "name": "ipython",
        "version": 3
      },
      "file_extension": ".py",
      "mimetype": "text/x-python",
      "name": "python",
      "nbconvert_exporter": "python",
      "pygments_lexer": "ipython3",
      "version": "3.8.8"
    },
    "colab": {
      "provenance": []
    }
  },
  "nbformat": 4,
  "nbformat_minor": 5
}